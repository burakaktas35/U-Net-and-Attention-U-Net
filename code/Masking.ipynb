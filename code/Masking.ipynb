{
  "cells": [
    {
      "cell_type": "code",
      "execution_count": null,
      "metadata": {
        "id": "16xjOdNGOTsf"
      },
      "outputs": [],
      "source": [
        "#mount drive\n",
        "%cd ..\n",
        "from google.colab import drive\n",
        "drive.mount('/content/gdrive')\n",
        "\n",
        "# this creates a symbolic link so that now the path /content/gdrive/My\\ Drive/ is equal to /mydrive\n",
        "!ln -s /content/gdrive/My\\ Drive/ /mydrive\n",
        "\n",
        "# list the contents of /mydrive\n",
        "!ls /mydrive\n",
        "\n",
        "#Navigate to /mydrive/Modern_Computer_Vision/\n",
        "%cd /mydrive/Modern_Computer_Vision/"
      ]
    },
    {
      "cell_type": "code",
      "source": [
        "# Import the necessary modules\n",
        "import os\n",
        "import csv\n",
        "\n",
        "# Open a blank CSV file for writing\n",
        "with open(\"file_data.csv\", \"w\") as csvfile:\n",
        "    writer = csv.writer(csvfile)\n",
        "\n",
        "    # Write the CSV file header\n",
        "    writer.writerow([\"masks\"])\n",
        "\n",
        "    # Loop through the files in the images folder\n",
        "    for i in range(1,5108):\n",
        "        # Construct the full path to the mask file\n",
        "        mask_name = (\"{}_masked_image.jpg\".format(i))\n",
        "        #mask_path = os.path.join(masks_folder, mask_name)\n",
        "        # Check if the mask file exists\n",
        "              # Write the image and mask file names to the CSV file\n",
        "        writer.writerow([mask_name])"
      ],
      "metadata": {
        "id": "MHC9jmXDCypG"
      },
      "execution_count": null,
      "outputs": []
    },
    {
      "cell_type": "code",
      "execution_count": null,
      "metadata": {
        "id": "HntuZoa4QLPK"
      },
      "outputs": [],
      "source": [
        "import os\n",
        "import pandas as pd\n",
        "import numpy as np\n",
        "import matplotlib.pyplot as plt\n",
        "import cv2\n",
        "from tensorflow.keras.preprocessing.image import load_img, img_to_array"
      ]
    },
    {
      "cell_type": "code",
      "execution_count": null,
      "metadata": {
        "id": "X8qLpBhlOyc3"
      },
      "outputs": [],
      "source": [
        "base_directory = './High_Quality_Data/'\n",
        "images_folder = os.path.join(base_directory, 'images')\n",
        "masks_folder = os.path.join(base_directory, 'masks')\n",
        "data = pd.read_csv(os.path.join(base_directory, 'meta_data_hq.csv'))"
      ]
    },
    {
      "cell_type": "code",
      "execution_count": null,
      "metadata": {
        "id": "Ypxk1ast2KmR"
      },
      "outputs": [],
      "source": [
        "data.describe()"
      ]
    },
    {
      "cell_type": "code",
      "execution_count": null,
      "metadata": {
        "id": "RznoWKB52TL2"
      },
      "outputs": [],
      "source": [
        "data.head()"
      ]
    },
    {
      "cell_type": "markdown",
      "metadata": {
        "id": "6jB28nBm3bin"
      },
      "source": [
        "#**Thresholding**"
      ]
    },
    {
      "cell_type": "code",
      "execution_count": null,
      "metadata": {
        "id": "yXyGtm_Qk5tV"
      },
      "outputs": [],
      "source": [
        "for index, row in data.iterrows():\n",
        "#target_size=(img_dim,img_dim\n",
        "        image = load_img(os.path.join(images_folder, row['image']))\n",
        "        image = img_to_array(image)\n",
        "        # Create a lower and upper bound for the red color channel\n",
        "        lower_green = np.array([0, 0, 0])\n",
        "        upper_green = np.array([80, 255, 120])\n",
        "\n",
        "        # Create a binary mask that only includes pixels within the red color range\n",
        "        mask = cv2.inRange(image, lower_green, upper_green)\n",
        "\n",
        "        # Mask the original image using the binary mask\n",
        "        masked_image = cv2.bitwise_and(image, image, mask=mask)\n",
        "\n",
        "        # Save the masked image\n",
        "        cv2.imwrite(os.path.join(masks_folder,'masked_image_{}.jpg'.format(index)), masked_image)"
      ]
    },
    {
      "cell_type": "markdown",
      "metadata": {
        "id": "fYgzkxTc3Wju"
      },
      "source": [
        "#**Erosion and Dilation**"
      ]
    },
    {
      "cell_type": "code",
      "execution_count": null,
      "metadata": {
        "id": "NflUIz6a3V8Q"
      },
      "outputs": [],
      "source": [
        "# Python program to demonstrate erosion and\n",
        "# dilation of images.\n",
        "\n",
        "# Reading the input image\n",
        "img = cv2.imread('masked_image_2.jpg')\n",
        "\n",
        "# Taking a matrix of size 5 as the kernel\n",
        "kernel = np.ones((3, 3), np.uint8)\n",
        "\n",
        "# The first parameter is the original image,\n",
        "# kernel is the matrix with which image is\n",
        "# convolved and third parameter is the number\n",
        "# of iterations, which will determine how much\n",
        "# you want to erode/dilate a given image.\n",
        "img_erosion = cv2.erode(img, kernel, iterations=1)\n",
        "img_dilation = cv2.dilate(img_erosion, kernel, iterations=1)\n",
        "\n",
        "plt.figure()\n",
        "fig, axes = plt.subplots(figsize=(16, 16))\n",
        "plt.subplot(3 , 1, 1)\n",
        "plt.imshow(img)\n",
        "plt.subplot(3 , 1, 2)\n",
        "plt.imshow(img_erosion)\n",
        "plt.subplot(3 , 1, 3)\n",
        "plt.imshow(img_dilation)\n",
        "\n",
        "cv2.waitKey(0)"
      ]
    },
    {
      "cell_type": "code",
      "execution_count": null,
      "metadata": {
        "id": "XTdcryAOFvem"
      },
      "outputs": [],
      "source": [
        "data_masks = pd.read_csv(os.path.join(base_directory, 'meta_data_masks.csv'))\n",
        "erosion_dilation_masks_folder = os.path.join(base_directory, 'erosion_dilation_masks')"
      ]
    },
    {
      "cell_type": "code",
      "execution_count": null,
      "metadata": {
        "id": "ejlfb4kuGmNH"
      },
      "outputs": [],
      "source": [
        "data_masks.describe()"
      ]
    },
    {
      "cell_type": "code",
      "execution_count": null,
      "metadata": {
        "id": "EdF42lheGnWY"
      },
      "outputs": [],
      "source": [
        "data_masks.head()"
      ]
    },
    {
      "cell_type": "code",
      "execution_count": null,
      "metadata": {
        "id": "87y-eMe-E6EI"
      },
      "outputs": [],
      "source": [
        "for index, row in data_masks.iterrows():\n",
        "#target_size=(img_dim,img_dim\n",
        "        mask = load_img(os.path.join(masks_folder, row['masks']))\n",
        "        mask = img_to_array(mask)\n",
        "\n",
        "        # Taking a matrix of size 5 as the kernel\n",
        "        kernel = np.ones((3, 3), np.uint8)\n",
        "\n",
        "        # The first parameter is the original image,\n",
        "        # kernel is the matrix with which image is\n",
        "        # convolved and third parameter is the number\n",
        "        # of iterations, which will determine how much\n",
        "        # you want to erode/dilate a given image.\n",
        "        mask_erosion = cv2.erode(mask, kernel, iterations=1)\n",
        "        mask_dilation = cv2.dilate(mask_erosion, kernel, iterations=1)\n",
        "\n",
        "        # Save the masked image\n",
        "        cv2.imwrite(os.path.join(erosion_dilation_masks_folder,'opened_mask_{}.jpg'.format(index)), mask_dilation)"
      ]
    },
    {
      "cell_type": "markdown",
      "metadata": {
        "id": "m9YeL4X7889a"
      },
      "source": [
        "#**Black & White Forming the Thresholding Results**"
      ]
    },
    {
      "cell_type": "code",
      "execution_count": null,
      "metadata": {
        "id": "Sh65SMpaINd9"
      },
      "outputs": [],
      "source": [
        "image = cv2.imread('masked_image_2.jpg')\n",
        "blur = cv2.GaussianBlur(image, (3,3), 0)\n",
        "blur_hsv = cv2.cvtColor(blur, cv2.COLOR_BGR2HSV)\n",
        "\n",
        "# create NumPy arrays from the boundaries\n",
        "lower = np.array([0,0,0], dtype = \"uint8\")\n",
        "upper = np.array([180,255,40], dtype = \"uint8\")\n",
        "\n",
        "# find the colors within the specified boundaries and apply\n",
        "mask = cv2.inRange(blur_hsv, lower, upper)\n",
        "mask = 255 - mask\n",
        "output = cv2.bitwise_and(image, image, mask = mask)\n",
        "\n",
        "# show the images\n",
        "plt.figure()\n",
        "fig, axes = plt.subplots(figsize=(16, 16))\n",
        "plt.subplot(2 , 1, 1)\n",
        "plt.imshow(output)\n",
        "plt.subplot(2 , 1, 2)\n",
        "plt.imshow(mask)\n",
        "\n",
        "cv2.waitKey()"
      ]
    },
    {
      "cell_type": "code",
      "execution_count": null,
      "metadata": {
        "id": "spPJ_p_vINZd"
      },
      "outputs": [],
      "source": [
        "data_opened_masks = pd.read_csv(os.path.join(base_directory, 'meta_data_opened_masks.csv'))\n",
        "bw_masks_folder = os.path.join(base_directory, 'bw_masks')"
      ]
    },
    {
      "cell_type": "code",
      "execution_count": null,
      "metadata": {
        "id": "naMrOpgvJbVu"
      },
      "outputs": [],
      "source": [
        "data_opened_masks.describe()"
      ]
    },
    {
      "cell_type": "code",
      "execution_count": null,
      "metadata": {
        "id": "nPbtUBcQJdnM"
      },
      "outputs": [],
      "source": [
        "data_opened_masks.head()"
      ]
    },
    {
      "cell_type": "code",
      "execution_count": null,
      "metadata": {
        "id": "lE0Lq-y88bb3"
      },
      "outputs": [],
      "source": [
        "for index, row in data_opened_masks.iterrows():\n",
        "#target_size=(img_dim,img_dim\n",
        "        masks = cv2.imread(os.path.join(erosion_dilation_masks_folder, row['opened_masks']))\n",
        "        opened_mask = img_to_array(masks)\n",
        "\n",
        "        blur = cv2.GaussianBlur(opened_mask, (3,3), 0)\n",
        "        blur_hsv = cv2.cvtColor(blur, cv2.COLOR_BGR2HSV)\n",
        "\n",
        "        # create NumPy arrays from the boundaries\n",
        "        lower = np.array([0,0,0], dtype = \"uint8\")\n",
        "        upper = np.array([80,255,120], dtype = \"uint8\")\n",
        "\n",
        "        # find the colors within the specified boundaries and apply\n",
        "        mask = cv2.inRange(blur_hsv, lower, upper)\n",
        "        mask = 255 - mask\n",
        "\n",
        "        #output = cv2.bitwise_and(masks, masks, mask = mask)\n",
        "\n",
        "\n",
        "        # Save the masked image\n",
        "        cv2.imwrite(os.path.join(bw_masks_folder,'bw_mask_{}.jpg'.format(index)), mask)"
      ]
    },
    {
      "cell_type": "markdown",
      "source": [
        "#**General Dataset and Mask CSV File Check**"
      ],
      "metadata": {
        "id": "DsYgMTL6ObQM"
      }
    },
    {
      "cell_type": "code",
      "source": [
        "data_general = pd.read_csv(os.path.join(base_directory, 'general_meta_data.csv'))"
      ],
      "metadata": {
        "id": "ESoE87lDOHWl"
      },
      "execution_count": null,
      "outputs": []
    },
    {
      "cell_type": "code",
      "source": [
        "data_general.describe()"
      ],
      "metadata": {
        "id": "LZZxe8JxONjG"
      },
      "execution_count": null,
      "outputs": []
    },
    {
      "cell_type": "code",
      "source": [
        "data_general.head()"
      ],
      "metadata": {
        "id": "aWDxIE-POPys"
      },
      "execution_count": null,
      "outputs": []
    }
  ],
  "metadata": {
    "colab": {
      "provenance": []
    },
    "gpuClass": "standard",
    "kernelspec": {
      "display_name": "Python 3",
      "name": "python3"
    },
    "language_info": {
      "name": "python"
    }
  },
  "nbformat": 4,
  "nbformat_minor": 0
}